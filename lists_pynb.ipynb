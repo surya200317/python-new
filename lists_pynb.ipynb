{
  "nbformat": 4,
  "nbformat_minor": 0,
  "metadata": {
    "colab": {
      "name": "lists.pynb",
      "provenance": [],
      "authorship_tag": "ABX9TyNKHagIaRQZmaWypNu7ZCVQ",
      "include_colab_link": true
    },
    "kernelspec": {
      "name": "python3",
      "display_name": "Python 3"
    },
    "language_info": {
      "name": "python"
    }
  },
  "cells": [
    {
      "cell_type": "markdown",
      "metadata": {
        "id": "view-in-github",
        "colab_type": "text"
      },
      "source": [
        "<a href=\"https://colab.research.google.com/github/surya200317/python-new/blob/module-2/lists_pynb.ipynb\" target=\"_parent\"><img src=\"https://colab.research.google.com/assets/colab-badge.svg\" alt=\"Open In Colab\"/></a>"
      ]
    },
    {
      "cell_type": "markdown",
      "source": [
        "**TUPLES**"
      ],
      "metadata": {
        "id": "pmeYHG4Jwikp"
      }
    },
    {
      "cell_type": "markdown",
      "source": [
        "Tuples to list"
      ],
      "metadata": {
        "id": "68RdFqyNykQ5"
      }
    },
    {
      "cell_type": "code",
      "source": [
        "trialtuple = (\"Python\",\"C\",\"C++\")\n",
        "print(type(trialtuple))\n",
        "b = list(trialtuple)\n",
        "print(type(b))"
      ],
      "metadata": {
        "colab": {
          "base_uri": "https://localhost:8080/"
        },
        "id": "7bZ9wHD_wneQ",
        "outputId": "05708215-f82a-4588-af34-3579339e154a"
      },
      "execution_count": null,
      "outputs": [
        {
          "output_type": "stream",
          "name": "stdout",
          "text": [
            "<class 'tuple'>\n",
            "<class 'list'>\n"
          ]
        }
      ]
    },
    {
      "cell_type": "markdown",
      "source": [
        "Adding elements to tuple"
      ],
      "metadata": {
        "id": "lyu7crIT01xu"
      }
    },
    {
      "cell_type": "code",
      "source": [
        "thistuple = (\"apple\", \"banana\", \"cherry\")\n",
        "b = list(thistuple )\n",
        "b.insert(0,\"orange\")\n",
        "thistuple = tuple(b)\n",
        "\n",
        "print(type(thistuple))\n",
        "print(thistuple)"
      ],
      "metadata": {
        "colab": {
          "base_uri": "https://localhost:8080/"
        },
        "id": "QedYEah800_P",
        "outputId": "6a73605c-67e4-4b4d-89f3-0811a2ffa1dd"
      },
      "execution_count": null,
      "outputs": [
        {
          "output_type": "stream",
          "name": "stdout",
          "text": [
            "<class 'tuple'>\n",
            "('orange', 'apple', 'banana', 'cherry')\n"
          ]
        }
      ]
    },
    {
      "cell_type": "markdown",
      "source": [
        "Adding tuple to tuple"
      ],
      "metadata": {
        "id": "UEFB7VHb09T-"
      }
    },
    {
      "cell_type": "code",
      "source": [
        "thistuple = (\"apple\", \"banana\", \"cherry\")\n",
        "y = (\"orange\",)\n",
        "thistuple = thistuple + y\n",
        "\n",
        "print(thistuple)"
      ],
      "metadata": {
        "id": "QuAnn8KP078e"
      },
      "execution_count": null,
      "outputs": []
    },
    {
      "cell_type": "code",
      "source": [
        "#packing and unpacking\n",
        "fruits = (\"apple\", \"banana\", \"cherry\", \"strawberry\", \"raspberry\")\n",
        "\n",
        "(green, yellow, *red) = fruits\n",
        "\n",
        "print(green)\n",
        "print(type(green))\n",
        "print(yellow)\n",
        "print(red)\n",
        "print(type(red))"
      ],
      "metadata": {
        "colab": {
          "base_uri": "https://localhost:8080/"
        },
        "id": "FtTorspoN6ib",
        "outputId": "b750ced7-2f4a-41fb-bc45-d89f7528ee43"
      },
      "execution_count": null,
      "outputs": [
        {
          "output_type": "stream",
          "name": "stdout",
          "text": [
            "apple\n",
            "<class 'str'>\n",
            "banana\n",
            "['cherry', 'strawberry', 'raspberry']\n",
            "<class 'list'>\n"
          ]
        }
      ]
    }
  ]
}