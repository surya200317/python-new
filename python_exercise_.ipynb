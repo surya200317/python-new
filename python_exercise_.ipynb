{
  "cells": [
    {
      "cell_type": "markdown",
      "metadata": {
        "id": "view-in-github",
        "colab_type": "text"
      },
      "source": [
        "<a href=\"https://colab.research.google.com/github/surya200317/python-new/blob/module1/python_exercise_.ipynb\" target=\"_parent\"><img src=\"https://colab.research.google.com/assets/colab-badge.svg\" alt=\"Open In Colab\"/></a>"
      ]
    },
    {
      "cell_type": "markdown",
      "id": "13c31c79",
      "metadata": {
        "id": "13c31c79"
      },
      "source": [
        "## avg of three numbers"
      ]
    },
    {
      "cell_type": "code",
      "execution_count": null,
      "id": "409fa7d0",
      "metadata": {
        "id": "409fa7d0",
        "outputId": "b17b220b-6f9d-4ec4-d7fc-332bc07ce291"
      },
      "outputs": [
        {
          "name": "stdout",
          "output_type": "stream",
          "text": [
            "20.0\n",
            "<class 'float'>\n"
          ]
        }
      ],
      "source": [
        "a=10\n",
        "b=20\n",
        "c=30\n",
        "avg=(a+b+c)/3\n",
        "print(avg)\n",
        "print(type(avg))"
      ]
    },
    {
      "cell_type": "markdown",
      "id": "7ff6ec95",
      "metadata": {
        "id": "7ff6ec95"
      },
      "source": [
        "## multiplication of three numbers"
      ]
    },
    {
      "cell_type": "code",
      "execution_count": null,
      "id": "7d761fb5",
      "metadata": {
        "id": "7d761fb5",
        "outputId": "5dd7b5c4-b99c-470e-95b2-9b737e9b3fa6"
      },
      "outputs": [
        {
          "name": "stdout",
          "output_type": "stream",
          "text": [
            "6000\n",
            "<class 'type'>\n"
          ]
        }
      ],
      "source": [
        "a=10\n",
        "b=20\n",
        "c=30\n",
        "multi=(a*b*c)\n",
        "print(multi)\n",
        "print(type)"
      ]
    },
    {
      "cell_type": "markdown",
      "id": "ea25417b",
      "metadata": {
        "id": "ea25417b"
      },
      "source": [
        "## Addition of two numbers (dynamic)"
      ]
    },
    {
      "cell_type": "markdown",
      "id": "617b04ac",
      "metadata": {
        "id": "617b04ac"
      },
      "source": [
        "a=int(input(\"enter the number:\"))\n",
        "b=int(input(\"enter the number:\"))\n",
        "add=(a+b)\n",
        "print(add)\n",
        "print(type)"
      ]
    },
    {
      "cell_type": "markdown",
      "id": "e31e7f10",
      "metadata": {
        "id": "e31e7f10"
      },
      "source": [
        "## convert int to float\n"
      ]
    },
    {
      "cell_type": "code",
      "execution_count": null,
      "id": "64cfbd0d",
      "metadata": {
        "id": "64cfbd0d",
        "outputId": "3801f283-df9c-451d-cc97-3d94d1b5e95e"
      },
      "outputs": [
        {
          "name": "stdout",
          "output_type": "stream",
          "text": [
            "<class 'int'>\n",
            "<class 'float'>\n"
          ]
        }
      ],
      "source": [
        "a=10\n",
        "print(type(a))\n",
        "b=float(a)\n",
        "print(type(b))\n"
      ]
    },
    {
      "cell_type": "markdown",
      "id": "5f8024d4",
      "metadata": {
        "id": "5f8024d4"
      },
      "source": [
        "### convert float to int"
      ]
    },
    {
      "cell_type": "code",
      "execution_count": null,
      "id": "78eba4fd",
      "metadata": {
        "id": "78eba4fd",
        "outputId": "baa345a5-75e3-4726-d5fd-94fa9b140a21"
      },
      "outputs": [
        {
          "name": "stdout",
          "output_type": "stream",
          "text": [
            "<class 'float'>\n",
            "<class 'int'>\n",
            "12\n"
          ]
        }
      ],
      "source": [
        "a=12.5\n",
        "b=int(a)\n",
        "print(type(a))\n",
        "print(type(b))\n",
        "print(b)"
      ]
    },
    {
      "cell_type": "markdown",
      "id": "26ab67db",
      "metadata": {
        "id": "26ab67db"
      },
      "source": [
        "### convert int to string"
      ]
    },
    {
      "cell_type": "code",
      "execution_count": null,
      "id": "2fc8436a",
      "metadata": {
        "id": "2fc8436a",
        "outputId": "10ae254a-5246-4af0-df11-e3e2e7206e6d"
      },
      "outputs": [
        {
          "name": "stdout",
          "output_type": "stream",
          "text": [
            "<class 'int'>\n",
            "<class 'str'>\n"
          ]
        }
      ],
      "source": [
        "a=25\n",
        "b=str(a)\n",
        "print(type(a))\n",
        "print(type(b))"
      ]
    },
    {
      "cell_type": "markdown",
      "id": "37a6a212",
      "metadata": {
        "id": "37a6a212"
      },
      "source": [
        "### convert string to int (not possible only  if values given in alph)"
      ]
    },
    {
      "cell_type": "markdown",
      "id": "47aab12f",
      "metadata": {
        "id": "47aab12f"
      },
      "source": [
        "## Boolean "
      ]
    },
    {
      "cell_type": "code",
      "execution_count": null,
      "id": "ad3ecce1",
      "metadata": {
        "id": "ad3ecce1",
        "outputId": "3db1ffe8-7248-478c-d654-9e7d7233c1f2"
      },
      "outputs": [
        {
          "name": "stdout",
          "output_type": "stream",
          "text": [
            "False\n",
            "<class 'bool'>\n"
          ]
        }
      ],
      "source": [
        "z=10\n",
        "b=12\n",
        "c=b<z\n",
        "print(c)\n",
        "print(type(c))"
      ]
    },
    {
      "cell_type": "markdown",
      "id": "1463bda0",
      "metadata": {
        "id": "1463bda0"
      },
      "source": [
        "### boolean into int \n"
      ]
    },
    {
      "cell_type": "code",
      "execution_count": null,
      "id": "b90f8297",
      "metadata": {
        "id": "b90f8297",
        "outputId": "40c827c3-9bea-4ee4-bc71-dcb239106aa4"
      },
      "outputs": [
        {
          "name": "stdout",
          "output_type": "stream",
          "text": [
            "0\n",
            "<class 'int'>\n"
          ]
        }
      ],
      "source": [
        "z=10\n",
        "b=12\n",
        "c=b<z\n",
        "c=int(c)\n",
        "print(c)\n",
        "print(type(c))"
      ]
    },
    {
      "cell_type": "markdown",
      "source": [
        "##types"
      ],
      "metadata": {
        "id": "HA12ePVO3oeM"
      },
      "id": "HA12ePVO3oeM"
    },
    {
      "cell_type": "code",
      "execution_count": null,
      "id": "2e5ab6d9",
      "metadata": {
        "id": "2e5ab6d9",
        "outputId": "dab078a6-d9e4-4b41-c2a5-a28d42769f73"
      },
      "outputs": [
        {
          "name": "stdout",
          "output_type": "stream",
          "text": [
            "True\n",
            "<class 'bool'>\n"
          ]
        }
      ],
      "source": [
        "a=10\n",
        "b=5\n",
        "c=a>b\n",
        "print(c)\n",
        "print(type(c))"
      ]
    },
    {
      "cell_type": "code",
      "execution_count": null,
      "id": "58553570",
      "metadata": {
        "id": "58553570",
        "outputId": "0788c0a4-a9da-4fe7-8997-794e92014141"
      },
      "outputs": [
        {
          "name": "stdout",
          "output_type": "stream",
          "text": [
            "<class 'bool'>\n",
            "<class 'int'>\n"
          ]
        }
      ],
      "source": [
        "a=bool(10)\n",
        "print(type(a))\n",
        "b=int(a)\n",
        "print(type(b))\n",
        "      \n"
      ]
    },
    {
      "cell_type": "code",
      "execution_count": null,
      "id": "a2eebdf6",
      "metadata": {
        "id": "a2eebdf6",
        "outputId": "331d2427-390a-4ff0-b808-834df62f7460"
      },
      "outputs": [
        {
          "name": "stdout",
          "output_type": "stream",
          "text": [
            "<class 'bool'>\n",
            "<class 'float'>\n"
          ]
        }
      ],
      "source": [
        "a=bool(10)\n",
        "print(type(a))\n",
        "b=float(a)\n",
        "print(type(b))\n",
        "      "
      ]
    },
    {
      "cell_type": "markdown",
      "source": [
        "##complex to int\n"
      ],
      "metadata": {
        "id": "5a7fUXUt3QlT"
      },
      "id": "5a7fUXUt3QlT"
    },
    {
      "cell_type": "code",
      "execution_count": null,
      "id": "f9f76b9a",
      "metadata": {
        "id": "f9f76b9a",
        "outputId": "d508230c-1ace-4740-fb97-4e2fafd67389"
      },
      "outputs": [
        {
          "name": "stdout",
          "output_type": "stream",
          "text": [
            "True\n",
            "<class 'bool'>\n",
            "True\n",
            "<class 'str'>\n"
          ]
        }
      ],
      "source": [
        "a=10\n",
        "b=5\n",
        "c=a>b\n",
        "d=str(c)\n",
        "print(c)\n",
        "print(type(c))\n",
        "print(d)\n",
        "print(type(d))"
      ]
    }
  ],
  "metadata": {
    "kernelspec": {
      "display_name": "Python 3 (ipykernel)",
      "language": "python",
      "name": "python3"
    },
    "language_info": {
      "codemirror_mode": {
        "name": "ipython",
        "version": 3
      },
      "file_extension": ".py",
      "mimetype": "text/x-python",
      "name": "python",
      "nbconvert_exporter": "python",
      "pygments_lexer": "ipython3",
      "version": "3.9.7"
    },
    "colab": {
      "name": "python exercise .ipynb",
      "provenance": [],
      "include_colab_link": true
    }
  },
  "nbformat": 4,
  "nbformat_minor": 5
}