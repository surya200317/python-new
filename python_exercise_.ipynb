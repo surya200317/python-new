{
  "cells": [
    {
      "cell_type": "markdown",
      "metadata": {
        "id": "view-in-github",
        "colab_type": "text"
      },
      "source": [
        "<a href=\"https://colab.research.google.com/github/surya200317/python-new/blob/module-2/python_exercise_.ipynb\" target=\"_parent\"><img src=\"https://colab.research.google.com/assets/colab-badge.svg\" alt=\"Open In Colab\"/></a>"
      ]
    },
    {
      "cell_type": "markdown",
      "id": "13c31c79",
      "metadata": {
        "id": "13c31c79"
      },
      "source": [
        "## avg of three numbers"
      ]
    },
    {
      "cell_type": "code",
      "execution_count": null,
      "id": "409fa7d0",
      "metadata": {
        "id": "409fa7d0",
        "outputId": "8163dc57-d366-4663-8510-52d18d84d6ba"
      },
      "outputs": [
        {
          "name": "stdout",
          "output_type": "stream",
          "text": [
            "20.0\n",
            "<class 'float'>\n"
          ]
        }
      ],
      "source": [
        "a=10\n",
        "b=20\n",
        "c=30\n",
        "avg=(a+b+c)/3\n",
        "print(avg)\n",
        "print(type(avg))"
      ]
    },
    {
      "cell_type": "markdown",
      "id": "7ff6ec95",
      "metadata": {
        "id": "7ff6ec95"
      },
      "source": [
        "## multiplication of three numbers"
      ]
    },
    {
      "cell_type": "code",
      "execution_count": null,
      "id": "7d761fb5",
      "metadata": {
        "id": "7d761fb5",
        "outputId": "c417e637-d905-471d-bd5e-d6623d3d11d5"
      },
      "outputs": [
        {
          "name": "stdout",
          "output_type": "stream",
          "text": [
            "6000\n",
            "<class 'type'>\n"
          ]
        }
      ],
      "source": [
        "a=10\n",
        "b=20\n",
        "c=30\n",
        "multi=(a*b*c)\n",
        "print(multi)\n",
        "print(type)"
      ]
    },
    {
      "cell_type": "markdown",
      "id": "ea25417b",
      "metadata": {
        "id": "ea25417b"
      },
      "source": [
        "## Addition of two numbers (dynamic)"
      ]
    },
    {
      "cell_type": "markdown",
      "id": "617b04ac",
      "metadata": {
        "id": "617b04ac"
      },
      "source": [
        "a=int(input(\"enter the number:\"))\n",
        "b=int(input(\"enter the number:\"))\n",
        "add=(a+b)\n",
        "print(add)\n",
        "print(type)"
      ]
    },
    {
      "cell_type": "markdown",
      "id": "e31e7f10",
      "metadata": {
        "id": "e31e7f10"
      },
      "source": [
        "## convert int to float\n"
      ]
    },
    {
      "cell_type": "code",
      "execution_count": null,
      "id": "64cfbd0d",
      "metadata": {
        "id": "64cfbd0d",
        "outputId": "0a36b5c4-ea30-4fc5-e8a2-1ac5154456f8"
      },
      "outputs": [
        {
          "name": "stdout",
          "output_type": "stream",
          "text": [
            "<class 'int'>\n",
            "<class 'float'>\n"
          ]
        }
      ],
      "source": [
        "a=10\n",
        "print(type(a))\n",
        "b=float(a)\n",
        "print(type(b))\n"
      ]
    },
    {
      "cell_type": "markdown",
      "id": "5f8024d4",
      "metadata": {
        "id": "5f8024d4"
      },
      "source": [
        "### convert float to int"
      ]
    },
    {
      "cell_type": "code",
      "execution_count": null,
      "id": "78eba4fd",
      "metadata": {
        "id": "78eba4fd",
        "outputId": "cbe2d53f-c843-4f96-9b4b-03db90d4ed81"
      },
      "outputs": [
        {
          "name": "stdout",
          "output_type": "stream",
          "text": [
            "<class 'float'>\n",
            "<class 'int'>\n",
            "12\n"
          ]
        }
      ],
      "source": [
        "a=12.5\n",
        "b=int(a)\n",
        "print(type(a))\n",
        "print(type(b))\n",
        "print(b)"
      ]
    },
    {
      "cell_type": "markdown",
      "id": "26ab67db",
      "metadata": {
        "id": "26ab67db"
      },
      "source": [
        "### convert int to string"
      ]
    },
    {
      "cell_type": "code",
      "execution_count": null,
      "id": "2fc8436a",
      "metadata": {
        "id": "2fc8436a",
        "outputId": "c4d5f110-def6-464c-d62f-d80bd9646908"
      },
      "outputs": [
        {
          "name": "stdout",
          "output_type": "stream",
          "text": [
            "<class 'int'>\n",
            "<class 'str'>\n"
          ]
        }
      ],
      "source": [
        "a=25\n",
        "b=str(a)\n",
        "print(type(a))\n",
        "print(type(b))"
      ]
    },
    {
      "cell_type": "markdown",
      "id": "37a6a212",
      "metadata": {
        "id": "37a6a212"
      },
      "source": [
        "### convert string to int (not possible only  if values given in alph)"
      ]
    },
    {
      "cell_type": "markdown",
      "id": "47aab12f",
      "metadata": {
        "id": "47aab12f"
      },
      "source": [
        "## Boolean "
      ]
    },
    {
      "cell_type": "code",
      "execution_count": null,
      "id": "ad3ecce1",
      "metadata": {
        "id": "ad3ecce1",
        "outputId": "dcf040f8-4099-4c9c-f406-2cb5bbdd37a1"
      },
      "outputs": [
        {
          "name": "stdout",
          "output_type": "stream",
          "text": [
            "False\n",
            "<class 'bool'>\n"
          ]
        }
      ],
      "source": [
        "z=10\n",
        "b=12\n",
        "c=b<z\n",
        "print(c)\n",
        "print(type(c))"
      ]
    },
    {
      "cell_type": "markdown",
      "id": "1463bda0",
      "metadata": {
        "id": "1463bda0"
      },
      "source": [
        "### boolean into int \n"
      ]
    },
    {
      "cell_type": "code",
      "execution_count": null,
      "id": "b90f8297",
      "metadata": {
        "id": "b90f8297",
        "outputId": "89de58e1-9cd8-41f3-fb12-5871e4abc074"
      },
      "outputs": [
        {
          "name": "stdout",
          "output_type": "stream",
          "text": [
            "0\n",
            "<class 'int'>\n"
          ]
        }
      ],
      "source": [
        "z=10\n",
        "b=12\n",
        "c=b<z\n",
        "c=int(c)\n",
        "print(c)\n",
        "print(type(c))"
      ]
    },
    {
      "cell_type": "code",
      "execution_count": null,
      "id": "2e5ab6d9",
      "metadata": {
        "id": "2e5ab6d9",
        "outputId": "b8376b65-9d7c-4854-f431-8384f2715d9a"
      },
      "outputs": [
        {
          "name": "stdout",
          "output_type": "stream",
          "text": [
            "True\n",
            "<class 'bool'>\n"
          ]
        }
      ],
      "source": [
        "a=10\n",
        "b=5\n",
        "c=a>b\n",
        "print(c)\n",
        "print(type(c))"
      ]
    },
    {
      "cell_type": "code",
      "execution_count": null,
      "id": "58553570",
      "metadata": {
        "id": "58553570",
        "outputId": "4f2e118a-5d62-4315-c0d8-ffac8ec8a719"
      },
      "outputs": [
        {
          "name": "stdout",
          "output_type": "stream",
          "text": [
            "<class 'bool'>\n",
            "<class 'int'>\n"
          ]
        }
      ],
      "source": [
        "a=bool(10)\n",
        "print(type(a))\n",
        "b=int(a)\n",
        "print(type(b))\n",
        "      \n"
      ]
    },
    {
      "cell_type": "code",
      "execution_count": null,
      "id": "a2eebdf6",
      "metadata": {
        "id": "a2eebdf6",
        "outputId": "ead7e911-c010-4333-9718-f9dcfe72cd1c"
      },
      "outputs": [
        {
          "name": "stdout",
          "output_type": "stream",
          "text": [
            "<class 'bool'>\n",
            "<class 'float'>\n"
          ]
        }
      ],
      "source": [
        "a=bool(10)\n",
        "print(type(a))\n",
        "b=float(a)\n",
        "print(type(b))\n",
        "      "
      ]
    },
    {
      "cell_type": "code",
      "execution_count": null,
      "id": "f9f76b9a",
      "metadata": {
        "id": "f9f76b9a",
        "outputId": "3b4229d7-1c24-496b-a60d-4801f9842895"
      },
      "outputs": [
        {
          "name": "stdout",
          "output_type": "stream",
          "text": [
            "True\n",
            "<class 'bool'>\n",
            "True\n",
            "<class 'str'>\n"
          ]
        }
      ],
      "source": [
        "a=10\n",
        "b=5\n",
        "c=a>b\n",
        "d=str(c)\n",
        "print(c)\n",
        "print(type(c))\n",
        "print(d)\n",
        "print(type(d))"
      ]
    },
    {
      "cell_type": "markdown",
      "id": "fc9ee3ee",
      "metadata": {
        "id": "fc9ee3ee"
      },
      "source": [
        "## complex to int"
      ]
    },
    {
      "cell_type": "code",
      "execution_count": null,
      "id": "e111cc24",
      "metadata": {
        "id": "e111cc24",
        "outputId": "3a07e60a-91de-43fc-97f9-c9f06bcef1e8"
      },
      "outputs": [
        {
          "name": "stdout",
          "output_type": "stream",
          "text": [
            "<class 'complex'>\n",
            "<class 'str'>\n",
            "<class 'bool'>\n"
          ]
        },
        {
          "ename": "TypeError",
          "evalue": "can't convert complex to float",
          "output_type": "error",
          "traceback": [
            "\u001b[1;31m---------------------------------------------------------------------------\u001b[0m",
            "\u001b[1;31mTypeError\u001b[0m                                 Traceback (most recent call last)",
            "\u001b[1;32m~\\AppData\\Local\\Temp/ipykernel_4220/140929985.py\u001b[0m in \u001b[0;36m<module>\u001b[1;34m\u001b[0m\n\u001b[0;32m      5\u001b[0m \u001b[0md\u001b[0m\u001b[1;33m=\u001b[0m\u001b[0mbool\u001b[0m\u001b[1;33m(\u001b[0m\u001b[0ma\u001b[0m\u001b[1;33m)\u001b[0m\u001b[1;33m\u001b[0m\u001b[1;33m\u001b[0m\u001b[0m\n\u001b[0;32m      6\u001b[0m \u001b[0mprint\u001b[0m\u001b[1;33m(\u001b[0m\u001b[0mtype\u001b[0m\u001b[1;33m(\u001b[0m\u001b[0md\u001b[0m\u001b[1;33m)\u001b[0m\u001b[1;33m)\u001b[0m\u001b[1;33m\u001b[0m\u001b[1;33m\u001b[0m\u001b[0m\n\u001b[1;32m----> 7\u001b[1;33m \u001b[0me\u001b[0m\u001b[1;33m=\u001b[0m\u001b[0mfloat\u001b[0m\u001b[1;33m(\u001b[0m\u001b[0ma\u001b[0m\u001b[1;33m)\u001b[0m\u001b[1;33m\u001b[0m\u001b[1;33m\u001b[0m\u001b[0m\n\u001b[0m\u001b[0;32m      8\u001b[0m \u001b[0mprint\u001b[0m\u001b[1;33m(\u001b[0m\u001b[0mtype\u001b[0m\u001b[1;33m(\u001b[0m\u001b[0me\u001b[0m\u001b[1;33m)\u001b[0m\u001b[1;33m)\u001b[0m\u001b[1;33m\u001b[0m\u001b[1;33m\u001b[0m\u001b[0m\n",
            "\u001b[1;31mTypeError\u001b[0m: can't convert complex to float"
          ]
        }
      ],
      "source": [
        "a=5+2j\n",
        "print(type(a))\n",
        "c=str(a)\n",
        "print(type(c))\n",
        "d=bool(a)\n",
        "print(type(d))\n",
        "e=float(a)\n",
        "print(type(e))"
      ]
    },
    {
      "cell_type": "code",
      "execution_count": null,
      "id": "8b93dec2",
      "metadata": {
        "id": "8b93dec2"
      },
      "outputs": [],
      "source": [
        ""
      ]
    }
  ],
  "metadata": {
    "kernelspec": {
      "display_name": "Python 3 (ipykernel)",
      "language": "python",
      "name": "python3"
    },
    "language_info": {
      "codemirror_mode": {
        "name": "ipython",
        "version": 3
      },
      "file_extension": ".py",
      "mimetype": "text/x-python",
      "name": "python",
      "nbconvert_exporter": "python",
      "pygments_lexer": "ipython3",
      "version": "3.9.7"
    },
    "colab": {
      "name": "python exercise .ipynb",
      "provenance": [],
      "include_colab_link": true
    }
  },
  "nbformat": 4,
  "nbformat_minor": 5
}