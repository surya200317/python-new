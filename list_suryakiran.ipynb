{
  "nbformat": 4,
  "nbformat_minor": 0,
  "metadata": {
    "colab": {
      "name": "list suryakiran",
      "provenance": [],
      "collapsed_sections": [],
      "authorship_tag": "ABX9TyO/5oxK+aFDp435aOtkctFv",
      "include_colab_link": true
    },
    "kernelspec": {
      "name": "python3",
      "display_name": "Python 3"
    },
    "language_info": {
      "name": "python"
    }
  },
  "cells": [
    {
      "cell_type": "markdown",
      "metadata": {
        "id": "view-in-github",
        "colab_type": "text"
      },
      "source": [
        "<a href=\"https://colab.research.google.com/github/surya200317/python-new/blob/module-2/list_suryakiran.ipynb\" target=\"_parent\"><img src=\"https://colab.research.google.com/assets/colab-badge.svg\" alt=\"Open In Colab\"/></a>"
      ]
    },
    {
      "cell_type": "code",
      "execution_count": null,
      "metadata": {
        "colab": {
          "base_uri": "https://localhost:8080/"
        },
        "id": "O60rAZI6XiIH",
        "outputId": "eefe6c8e-e066-4e81-f255-b9ef8f0b1e19"
      },
      "outputs": [
        {
          "output_type": "stream",
          "name": "stdout",
          "text": [
            "['apple', 'orange', 'mango']\n",
            "['apple', 'orange']\n",
            "['apple', 'orange']\n",
            "['orange']\n",
            "['orange', 'mango']\n",
            "['mango']\n"
          ]
        }
      ],
      "source": [
        "fruit=[\"apple\",\"orange\",\"mango\",\"banana\"]\n",
        "print(fruit)\n",
        "print(fruit[0:2])\n",
        "print(fruit[:2])\n",
        "print(fruit[1:2])\n",
        "print(fruit[1:])\n",
        "print(fruit[2:])\n",
        "print(fruit[0:3])"
      ]
    },
    {
      "cell_type": "markdown",
      "source": [
        ""
      ],
      "metadata": {
        "id": "fbiRoHB0aNON"
      }
    },
    {
      "cell_type": "markdown",
      "source": [
        "APPEND,INSERT,REMOVE,POP,DEL,CLEAR,SORT,LEN\n"
      ],
      "metadata": {
        "id": "Wim7aWPxaXiO"
      }
    },
    {
      "cell_type": "code",
      "source": [
        "[1]#Append\n",
        "fruit=[\"apple\",\"orange\",\"mango\",\"banana\"]\n",
        "print(fruit)\n",
        "fruit.append(\"jackfruit\")\n",
        "print(fruit)\n",
        "print(type(fruit))\n",
        "[2]##inserting into list\n",
        "fruit.insert(6,\"kiwi\")\n",
        "print(fruit)\n",
        "[3]##removing into list\n",
        "fruit=[\"apple\",\"orange\",\"mango\",\"banana\"]\n",
        "fruit.remove(\"orange\")\n",
        "print(fruit)\n",
        "[4]##pop by index\n",
        "fruit=[\"apple\",\"orange\",\"mango\",\"banana\"]\n",
        "fruit.pop(1)\n",
        "print(fruit)\n",
        "[5]##del into list\n",
        "del fruit[0]\n",
        "print(fruit)\n",
        "[6]##clear the list content\n",
        "fruit.clear()\n",
        "print(fruit)\n",
        "[7]##SORT\n",
        "num=[10,70,30,44,5]\n",
        "num.sort()\n",
        "print(num)\n",
        "[8]##SORT IN Desending\n",
        "num=[10,70,30,44,5]\n",
        "num.sort(reverse=True)\n",
        "print(num)\n",
        "[9]##alph sort\n",
        "alph=[\"b\",\"k\",\"c\",\"Z\",\"p\"]\n",
        "alph.sort()\n",
        "print(alph)\n",
        "[10]## desending\n",
        "alph=[\"b\",\"k\",\"c\",\"z\",\"p\"]\n",
        "alph.sort(reverse=True)\n",
        "print(alph)\n",
        "[11]##LEN\n",
        "print(len(alph))\n",
        "\n",
        "\n"
      ],
      "metadata": {
        "colab": {
          "base_uri": "https://localhost:8080/"
        },
        "id": "QBsTwGAyabZt",
        "outputId": "3f8616f8-f5b9-4dc8-b602-9b415921733b"
      },
      "execution_count": null,
      "outputs": [
        {
          "output_type": "stream",
          "name": "stdout",
          "text": [
            "['apple', 'orange', 'mango', 'banana']\n",
            "['apple', 'orange', 'mango', 'banana', 'jackfruit']\n",
            "<class 'list'>\n",
            "['apple', 'orange', 'mango', 'banana', 'jackfruit', 'kiwi']\n",
            "['apple', 'mango', 'banana']\n",
            "['apple', 'mango', 'banana']\n",
            "['mango', 'banana']\n",
            "[]\n",
            "[5, 10, 30, 44, 70]\n",
            "[70, 44, 30, 10, 5]\n",
            "['Z', 'b', 'c', 'k', 'p']\n",
            "['z', 'p', 'k', 'c', 'b']\n",
            "5\n"
          ]
        }
      ]
    },
    {
      "cell_type": "code",
      "source": [
        "#while loop \n",
        "i = 1\n",
        "while i < 14:\n",
        "  print(i)\n",
        "  i +=4 "
      ],
      "metadata": {
        "colab": {
          "base_uri": "https://localhost:8080/"
        },
        "id": "oj9wgj2lozdN",
        "outputId": "5ef4a983-4377-4633-e296-b46268cd9656"
      },
      "execution_count": null,
      "outputs": [
        {
          "output_type": "stream",
          "name": "stdout",
          "text": [
            "1\n",
            "5\n",
            "9\n",
            "13\n"
          ]
        }
      ]
    },
    {
      "cell_type": "code",
      "source": [
        "nsk = [\"1\", \"2\", \"3\"]\n",
        "for x in nsk:\n",
        "  print(x)\n"
      ],
      "metadata": {
        "colab": {
          "base_uri": "https://localhost:8080/"
        },
        "id": "RhUOS8DI0uLY",
        "outputId": "5c7aa2f1-d389-4788-c0bb-0e983c638ad4"
      },
      "execution_count": null,
      "outputs": [
        {
          "output_type": "stream",
          "name": "stdout",
          "text": [
            "1\n",
            "2\n",
            "3\n"
          ]
        }
      ]
    },
    {
      "cell_type": "code",
      "source": [
        "nsk = [\"1\", \"2\", \"3\"]\n",
        "for z in range(len(nsk)):\n",
        "  print(nsk[z])"
      ],
      "metadata": {
        "colab": {
          "base_uri": "https://localhost:8080/"
        },
        "id": "SEBPmTbY1Zv4",
        "outputId": "e4463f08-fecf-4409-f49b-473e43736cdb"
      },
      "execution_count": null,
      "outputs": [
        {
          "output_type": "stream",
          "name": "stdout",
          "text": [
            "1\n",
            "2\n",
            "3\n"
          ]
        }
      ]
    }
  ]
}