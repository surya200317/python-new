{
  "nbformat": 4,
  "nbformat_minor": 0,
  "metadata": {
    "colab": {
      "name": "module 1 problems",
      "provenance": [],
      "collapsed_sections": [],
      "authorship_tag": "ABX9TyOnU19V/73OIMUPD9AxNAme",
      "include_colab_link": true
    },
    "kernelspec": {
      "name": "python3",
      "display_name": "Python 3"
    },
    "language_info": {
      "name": "python"
    }
  },
  "cells": [
    {
      "cell_type": "markdown",
      "metadata": {
        "id": "view-in-github",
        "colab_type": "text"
      },
      "source": [
        "<a href=\"https://colab.research.google.com/github/surya200317/python-new/blob/module1/module_1_problems.ipynb\" target=\"_parent\"><img src=\"https://colab.research.google.com/assets/colab-badge.svg\" alt=\"Open In Colab\"/></a>"
      ]
    },
    {
      "cell_type": "code",
      "execution_count": null,
      "metadata": {
        "id": "7WOPre9KQi9P",
        "outputId": "c19e1793-7e10-4f33-ae2c-600ba6501b25",
        "colab": {
          "base_uri": "https://localhost:8080/"
        }
      },
      "outputs": [
        {
          "output_type": "stream",
          "name": "stdout",
          "text": [
            "20\n",
            "10\n",
            "50\n"
          ]
        }
      ],
      "source": [
        "#x Accept input from user and store it in variable and print the value.\n",
        "a=100\n",
        "b=20\n",
        "c=int(input())\n",
        "d=int(input())\n",
        "f=a-(b)-(c)-(d)\n",
        "print(f)\n"
      ]
    },
    {
      "cell_type": "code",
      "source": [
        "#Use of print statements and use of (.format )for printing different data types.\n",
        "a=\"RRR movie has been released\"\n",
        "b=\"I went to movie with friends\"\n",
        "#print(a+\" \"+b)\n",
        "#print(\"% a % b\" %(a,b))\n",
        "a=123\n",
        "b=\"hello {}\" \n",
        "print(b.format(a,b))\n",
        "\n"
      ],
      "metadata": {
        "id": "y6s95GGnf1r0",
        "colab": {
          "base_uri": "https://localhost:8080/"
        },
        "outputId": "252c3d6c-6bbf-4064-bcaa-2c1a68de17c0"
      },
      "execution_count": null,
      "outputs": [
        {
          "output_type": "stream",
          "name": "stdout",
          "text": [
            "hello 123\n"
          ]
        }
      ]
    },
    {
      "cell_type": "code",
      "source": [
        " #Printing all even numbers, odd numbers, count of even numbers, count of odd numbers\n",
        "#within a given range.\n",
        "for a in range(101,200,2):\n",
        "  print(a)"
      ],
      "metadata": {
        "id": "8e06lMGuRE2m"
      },
      "execution_count": null,
      "outputs": []
    },
    {
      "cell_type": "code",
      "source": [
        "a=[\"a\",\"b\",\"c\",\"d\"]\n",
        "del a[1]\n",
        "del a[2]\n",
        "print(a)     "
      ],
      "metadata": {
        "colab": {
          "base_uri": "https://localhost:8080/"
        },
        "id": "JZU4XdcUTSpn",
        "outputId": "2830398c-7ec2-45b4-e0fb-ae91cb5fa12d"
      },
      "execution_count": null,
      "outputs": [
        {
          "output_type": "stream",
          "name": "stdout",
          "text": [
            "['a', 'c']\n"
          ]
        }
      ]
    },
    {
      "cell_type": "code",
      "source": [
        "#Take 2 numbers as user input and add, multiply, divide, subtract, remainder and print\n",
        "#the output (Same operations on floating point input as well)\n",
        "#add\n",
        "a=100\n",
        "b=20\n",
        "c=int(input())\n",
        "d=int(input())\n",
        "f=a+(b)+(c)+(d)\n",
        "print(f)\n",
        "#sub\n",
        "a=100\n",
        "b=20\n",
        "c=int(input())\n",
        "d=int(input())\n",
        "f=a-(b)-(c)-(d)\n",
        "print(f)\n",
        "#multi\n",
        "a=100\n",
        "b=20\n",
        "c=int(input())\n",
        "d=int(input())\n",
        "f=a*b*c*d\n",
        "print(f)\n",
        "#avg\n",
        "a=100\n",
        "b=20\n",
        "c=int(input())\n",
        "d=int(input())\n",
        "f=(a+b+c+d)/4\n",
        "print(f)\n",
        "\n",
        "\n"
      ],
      "metadata": {
        "colab": {
          "base_uri": "https://localhost:8080/"
        },
        "id": "on0ExuCwVLDV",
        "outputId": "0f01cc6b-22df-40e3-d3ef-6ab476f13f6a"
      },
      "execution_count": null,
      "outputs": [
        {
          "output_type": "stream",
          "name": "stdout",
          "text": [
            "2\n",
            "2\n",
            "124\n",
            "2\n",
            "2\n",
            "76\n",
            "2\n",
            "2\n",
            "8000\n",
            "2\n",
            "2\n",
            "31.0\n"
          ]
        }
      ]
    },
    {
      "cell_type": "code",
      "source": [
        "#Conversion of one unit to another (such as hours to minutes, miles to km and etc)\n",
        "#hours in min\n",
        "a=int(input(\"enter hours : \"))\n",
        "c=a*60\n",
        "print(c,\"min\")\n",
        "#mile in km\n",
        "a=int(input(\"enter mile : \"))\n",
        "c=a*1.60934\n",
        "print(c,\"km\")\n"
      ],
      "metadata": {
        "colab": {
          "base_uri": "https://localhost:8080/"
        },
        "id": "7Y3ayZBpXvLM",
        "outputId": "3f49cb8f-689d-49f1-bd0e-c958cd7645c0"
      },
      "execution_count": null,
      "outputs": [
        {
          "output_type": "stream",
          "name": "stdout",
          "text": [
            "enter hours : 1\n",
            "60 min\n",
            "enter mile : 2\n",
            "3.21868 km\n"
          ]
        }
      ]
    },
    {
      "cell_type": "code",
      "source": [
        "#Usage of mathematical functions in python like math.ceil, floor, fabs, fmod, etc.\n",
        "import math\n",
        "print(math.ceil(1.2))\n",
        "print(math.floor(1.2))\n",
        "print(math.fabs(1.2))\n",
        "print(math.fmod(100,101))\n"
      ],
      "metadata": {
        "colab": {
          "base_uri": "https://localhost:8080/"
        },
        "id": "rLZNYKN0aAf0",
        "outputId": "2a3ee592-1162-4662-cfe7-c6cf4982620b"
      },
      "execution_count": null,
      "outputs": [
        {
          "output_type": "stream",
          "name": "stdout",
          "text": [
            "2\n",
            "1\n",
            "1.2\n",
            "1.0\n",
            "2\n",
            "1\n",
            "1.2\n",
            "1.0\n"
          ]
        }
      ]
    },
    {
      "cell_type": "code",
      "source": [
        "#Compute compound interest using loop for a certain principal and interest amount\n",
        "a=int(input(\"enter the principal amount : \"))\n",
        "t=int(input(\" enetr time : \"))\n",
        "r=int(input(\" enetr intrest rate : \"))\n",
        "b=a( 1 + r/100)n-a\n",
        "\n",
        "print(b)"
      ],
      "metadata": {
        "id": "dQu7lSCQokUs"
      },
      "execution_count": null,
      "outputs": []
    },
    {
      "cell_type": "code",
      "source": [
        "#Building a mathematical calculator that can perform operations according to user input.\n",
        "#Use decision making statement.\n",
        "a=(input(\"enter: \"))\n",
        "b=a.strip()\n",
        "if b[1]==\"+\":\n",
        "  print(int(b[0])+int(b[2]))\n",
        "elif b[1]==\"-\":\n",
        "  print(int(b[0])-int(b[2]))\n",
        "elif b[1]==\"*\":\n",
        "  print(int(b[0])*int(b[2]))\n",
        "elif b[1]==\"/\":\n",
        "  print(int(b[0])/int(b[2]))\n",
        "elif b[1]==\"%\":\n",
        "  print(int(b[0])%int(b[2]))\n",
        "\n",
        "\n",
        "\n"
      ],
      "metadata": {
        "colab": {
          "base_uri": "https://localhost:8080/"
        },
        "id": "xt6t91wnj1Tc",
        "outputId": "3248fb61-824a-478c-c834-63bc47a0fad9"
      },
      "execution_count": null,
      "outputs": [
        {
          "output_type": "stream",
          "name": "stdout",
          "text": [
            "enter: 2+2\n",
            "4\n"
          ]
        }
      ]
    },
    {
      "cell_type": "code",
      "source": [
        "#Accepting 5 different subject marks from user and displaying the grade of the student.\n",
        "x=input(\"enter student name: \")\n",
        "a=int(input(\"math marks: \"))\n",
        "b=int(input(\"english marks: \"))\n",
        "c=int(input(\"sanskrit marks: \"))\n",
        "d=int(input(\"computer marks: \"))\n",
        "f=int(input(\"social marks: \"))\n",
        "if (a+b+c+d+f) >= 450:\n",
        "  print(x,\"got : A grade \")\n",
        "elif (a+b+c+d+f) >= 400 and (a+b+c+d+f) <= 450:\n",
        "  print(x,\"got : B grade\")\n",
        "else:\n",
        "  print(x,\"got : C grade\")\n"
      ],
      "metadata": {
        "colab": {
          "base_uri": "https://localhost:8080/"
        },
        "id": "i71txdHVbqC0",
        "outputId": "4c82ed06-9afb-4229-a435-e7d3d4004c13"
      },
      "execution_count": null,
      "outputs": [
        {
          "output_type": "stream",
          "name": "stdout",
          "text": [
            "enter student name: P.SURAJ\n",
            "math marks: 100\n",
            "english marks: 100\n",
            "sanskrit marks: 98\n",
            "computer marks: 95\n",
            "social marks: 100\n",
            "P.SURAJ got : A grade\n"
          ]
        }
      ]
    }
  ]
}