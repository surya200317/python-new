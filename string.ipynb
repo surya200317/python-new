{
  "nbformat": 4,
  "nbformat_minor": 0,
  "metadata": {
    "colab": {
      "name": "string.ipynb",
      "provenance": [],
      "authorship_tag": "ABX9TyPBlS7CA/UcJR6t3HXl9LNi",
      "include_colab_link": true
    },
    "kernelspec": {
      "name": "python3",
      "display_name": "Python 3"
    },
    "language_info": {
      "name": "python"
    }
  },
  "cells": [
    {
      "cell_type": "markdown",
      "metadata": {
        "id": "view-in-github",
        "colab_type": "text"
      },
      "source": [
        "<a href=\"https://colab.research.google.com/github/surya200317/python-new/blob/module-2/string.ipynb\" target=\"_parent\"><img src=\"https://colab.research.google.com/assets/colab-badge.svg\" alt=\"Open In Colab\"/></a>"
      ]
    },
    {
      "cell_type": "code",
      "execution_count": null,
      "metadata": {
        "id": "TqO2kUCT7RF-"
      },
      "outputs": [],
      "source": [
        "c5ygxtf4rd3es2w"
      ]
    },
    {
      "cell_type": "markdown",
      "source": [
        "string:"
      ],
      "metadata": {
        "id": "TnjcVtX37R57"
      }
    },
    {
      "cell_type": "code",
      "source": [
        "a=\"string\"\n",
        "print(a)\n",
        "print(type(a))\n",
        "print(a[1])"
      ],
      "metadata": {
        "colab": {
          "base_uri": "https://localhost:8080/"
        },
        "id": "kdqnJiRc7VHS",
        "outputId": "44dd5a56-b3d7-4de0-8049-cfeeb7eebf5c"
      },
      "execution_count": null,
      "outputs": [
        {
          "output_type": "stream",
          "name": "stdout",
          "text": [
            "string\n",
            "<class 'str'>\n",
            "t\n"
          ]
        }
      ]
    },
    {
      "cell_type": "markdown",
      "source": [
        "length"
      ],
      "metadata": {
        "id": "C-PVOzE48SMK"
      }
    },
    {
      "cell_type": "code",
      "source": [
        "a=\"string\"\n",
        "print(len(a))"
      ],
      "metadata": {
        "colab": {
          "base_uri": "https://localhost:8080/"
        },
        "id": "7k3W89df8LD0",
        "outputId": "5c7ee6dd-d5d8-4b6a-ace2-9140d09d2642"
      },
      "execution_count": null,
      "outputs": [
        {
          "output_type": "stream",
          "name": "stdout",
          "text": [
            "6\n"
          ]
        }
      ]
    },
    {
      "cell_type": "code",
      "source": [
        "a=\"hello string\"\n",
        "print(len(a))"
      ],
      "metadata": {
        "colab": {
          "base_uri": "https://localhost:8080/"
        },
        "id": "CIV3iXem8dEi",
        "outputId": "cc8cf9a0-5023-460c-cecd-c90c8c409230"
      },
      "execution_count": null,
      "outputs": [
        {
          "output_type": "stream",
          "name": "stdout",
          "text": [
            "12\n"
          ]
        }
      ]
    },
    {
      "cell_type": "markdown",
      "source": [
        ""
      ],
      "metadata": {
        "id": "r5_ybmL88vnB"
      }
    },
    {
      "cell_type": "code",
      "source": [
        "a=\"RRR movie has been released\"\n",
        "print(\"z\" in a)"
      ],
      "metadata": {
        "colab": {
          "base_uri": "https://localhost:8080/"
        },
        "id": "TkKeIXya8wEx",
        "outputId": "86604563-55ed-40cf-ff81-a6c1c5517407"
      },
      "execution_count": null,
      "outputs": [
        {
          "output_type": "stream",
          "name": "stdout",
          "text": [
            "False\n"
          ]
        }
      ]
    },
    {
      "cell_type": "markdown",
      "source": [
        "Not in:"
      ],
      "metadata": {
        "id": "Gie5uNQL9yx8"
      }
    },
    {
      "cell_type": "code",
      "source": [
        "a=\"RRR movie has been released\"\n",
        "print(\"RRR\" not in a)"
      ],
      "metadata": {
        "colab": {
          "base_uri": "https://localhost:8080/"
        },
        "id": "rYnckm7m9XVa",
        "outputId": "d68c420c-6263-4631-df1e-cb170722c372"
      },
      "execution_count": null,
      "outputs": [
        {
          "output_type": "stream",
          "name": "stdout",
          "text": [
            "False\n"
          ]
        }
      ]
    },
    {
      "cell_type": "markdown",
      "source": [
        "Slicing:"
      ],
      "metadata": {
        "id": "fI2IPy6i94lz"
      }
    },
    {
      "cell_type": "code",
      "source": [
        "a=\"RRR movie has been released\"\n",
        "print(a[2:5])"
      ],
      "metadata": {
        "colab": {
          "base_uri": "https://localhost:8080/"
        },
        "id": "UQss6ukE92qx",
        "outputId": "828ff383-bef1-424c-d323-b071e919a5ff"
      },
      "execution_count": null,
      "outputs": [
        {
          "output_type": "stream",
          "name": "stdout",
          "text": [
            "R m\n"
          ]
        }
      ]
    }
  ]
}